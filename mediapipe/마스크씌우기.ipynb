{
 "cells": [
  {
   "cell_type": "code",
   "execution_count": 25,
   "metadata": {},
   "outputs": [],
   "source": [
    "import cv2\n",
    "import mediapipe as mp\n",
    "import numpy as np"
   ]
  },
  {
   "cell_type": "code",
   "execution_count": 28,
   "metadata": {},
   "outputs": [
    {
     "name": "stdout",
     "output_type": "stream",
     "text": [
      "(300, 300, 3)\n"
     ]
    },
    {
     "ename": "ValueError",
     "evalue": "not enough values to unpack (expected 4, got 3)",
     "output_type": "error",
     "traceback": [
      "\u001b[1;31m---------------------------------------------------------------------------\u001b[0m",
      "\u001b[1;31mValueError\u001b[0m                                Traceback (most recent call last)",
      "Cell \u001b[1;32mIn[28], line 5\u001b[0m\n\u001b[0;32m      2\u001b[0m mask_img \u001b[38;5;241m=\u001b[39m cv2\u001b[38;5;241m.\u001b[39mimread(\u001b[38;5;124m'\u001b[39m\u001b[38;5;124m4892.png_300.png\u001b[39m\u001b[38;5;124m'\u001b[39m, cv2\u001b[38;5;241m.\u001b[39mIMREAD_UNCHANGED)  \u001b[38;5;66;03m# 알파 채널을 포함하여 로드\u001b[39;00m\n\u001b[0;32m      3\u001b[0m \u001b[38;5;28mprint\u001b[39m(mask_img\u001b[38;5;241m.\u001b[39mshape)\n\u001b[1;32m----> 5\u001b[0m _, _, _, alpha_channel \u001b[38;5;241m=\u001b[39m cv2\u001b[38;5;241m.\u001b[39msplit(mask_img)\n\u001b[0;32m      7\u001b[0m \u001b[38;5;66;03m# h, w = mask_img.shape[:2] # shape 에서 반환되는 값은 h, w 순서\u001b[39;00m\n\u001b[0;32m      8\u001b[0m \u001b[38;5;66;03m# resized_mask = cv2.resize(alpha_channel, (w, h), interpolation=cv2.INTER_AREA)\u001b[39;00m\n\u001b[0;32m      9\u001b[0m \u001b[38;5;66;03m# masked_img_1 = cv2.bitwise_and(mask_img, mask_img, mask=resized_mask)\u001b[39;00m\n\u001b[1;32m   (...)\u001b[0m\n\u001b[0;32m     12\u001b[0m \u001b[38;5;66;03m# cv2.waitKey(0)\u001b[39;00m\n\u001b[0;32m     13\u001b[0m \u001b[38;5;66;03m# cv2.destroyAllWindows()\u001b[39;00m\n",
      "\u001b[1;31mValueError\u001b[0m: not enough values to unpack (expected 4, got 3)"
     ]
    }
   ],
   "source": [
    "# 안경 이미지 로드\n",
    "mask_img = cv2.imread('4892.png_300.png', cv2.IMREAD_UNCHANGED)  # 알파 채널을 포함하여 로드\n",
    "print(mask_img.shape)\n",
    "\n",
    "_, _, _, alpha_channel = cv2.split(mask_img)\n",
    "\n",
    "h, w = mask_img.shape[:2] # shape 에서 반환되는 값은 h, w 순서\n",
    "resized_mask = cv2.resize(alpha_channel, (w, h), interpolation=cv2.INTER_AREA)\n",
    "masked_img_1 = cv2.bitwise_and(mask_img, mask_img, mask=resized_mask)\n",
    "\n",
    "cv2.imshow(\"mask_img\", masked_img_1)\n",
    "cv2.waitKey(0)\n",
    "cv2.destroyAllWindows()"
   ]
  },
  {
   "cell_type": "code",
   "execution_count": 14,
   "metadata": {},
   "outputs": [
    {
     "ename": "IndexError",
     "evalue": "index 3 is out of bounds for axis 2 with size 3",
     "output_type": "error",
     "traceback": [
      "\u001b[1;31m---------------------------------------------------------------------------\u001b[0m",
      "\u001b[1;31mIndexError\u001b[0m                                Traceback (most recent call last)",
      "Cell \u001b[1;32mIn[14], line 29\u001b[0m\n\u001b[0;32m     22\u001b[0m \u001b[38;5;28;01mif\u001b[39;00m results\u001b[38;5;241m.\u001b[39mmulti_face_landmarks:\n\u001b[0;32m     23\u001b[0m     \u001b[38;5;28;01mfor\u001b[39;00m face_landmarks \u001b[38;5;129;01min\u001b[39;00m results\u001b[38;5;241m.\u001b[39mmulti_face_landmarks:\n\u001b[0;32m     24\u001b[0m         \u001b[38;5;66;03m# 눈의 위치를 기준으로 안경 위치 조정 및 크기 조정 로직 필요 (여기서는 간단히 처리)\u001b[39;00m\n\u001b[0;32m     25\u001b[0m         \u001b[38;5;66;03m# 예시로 랜드마크를 사용하지 않고 고정된 위치에 적용하는 방식으로 단순화\u001b[39;00m\n\u001b[0;32m     26\u001b[0m         \u001b[38;5;66;03m# 실제 사용시에는 랜드마크를 기반으로 안경의 위치와 크기를 동적으로 조정해야 합니다.\u001b[39;00m\n\u001b[0;32m     27\u001b[0m         \n\u001b[0;32m     28\u001b[0m         \u001b[38;5;66;03m# 안경 이미지의 알파 채널과 RGB 채널 분리\u001b[39;00m\n\u001b[1;32m---> 29\u001b[0m         mask_alpha \u001b[38;5;241m=\u001b[39m \u001b[43mmask_img\u001b[49m\u001b[43m[\u001b[49m\u001b[43m:\u001b[49m\u001b[43m,\u001b[49m\u001b[43m \u001b[49m\u001b[43m:\u001b[49m\u001b[43m,\u001b[49m\u001b[43m \u001b[49m\u001b[38;5;241;43m3\u001b[39;49m\u001b[43m]\u001b[49m \u001b[38;5;241m/\u001b[39m \u001b[38;5;241m255.0\u001b[39m\n\u001b[0;32m     30\u001b[0m         mask_color \u001b[38;5;241m=\u001b[39m mask_img[:, :, :\u001b[38;5;241m3\u001b[39m]\n\u001b[0;32m     32\u001b[0m         \u001b[38;5;66;03m# 안경을 적용할 위치 계산 (여기서는 전체 이미지 크기를 기준으로 간단히 설정)\u001b[39;00m\n",
      "\u001b[1;31mIndexError\u001b[0m: index 3 is out of bounds for axis 2 with size 3"
     ]
    }
   ],
   "source": [
    "# MediaPipe 얼굴 검출 초기화\n",
    "mp_face_mesh = mp.solutions.face_mesh\n",
    "face_mesh = mp_face_mesh.FaceMesh(static_image_mode=False, max_num_faces=1, refine_landmarks=True, min_detection_confidence=0.5)\n",
    "\n",
    "mask_img = cv2.imread('mask.png', cv2.IMREAD_UNCHANGED)  # 알파 채널을 포함하여 로드\n",
    "\n",
    "# 웹캠 캡처 객체 생성\n",
    "cap = cv2.VideoCapture(0)\n",
    "\n",
    "while cap.isOpened():\n",
    "    success, frame = cap.read()\n",
    "    if not success:\n",
    "        break  # 프레임을 제대로 읽지 못하면 루프 탈출\n",
    "\n",
    "    # BGR 이미지를 RGB로 변환\n",
    "    rgb_frame = cv2.cvtColor(frame, cv2.COLOR_BGR2RGB)\n",
    "\n",
    "    # 얼굴 랜드마크 검출\n",
    "    results = face_mesh.process(rgb_frame)\n",
    "\n",
    "    # 얼굴 랜드마크에 따라 안경 오버레이\n",
    "    if results.multi_face_landmarks:\n",
    "        for face_landmarks in results.multi_face_landmarks:\n",
    "            # 눈의 위치를 기준으로 안경 위치 조정 및 크기 조정 로직 필요 (여기서는 간단히 처리)\n",
    "            # 예시로 랜드마크를 사용하지 않고 고정된 위치에 적용하는 방식으로 단순화\n",
    "            # 실제 사용시에는 랜드마크를 기반으로 안경의 위치와 크기를 동적으로 조정해야 합니다.\n",
    "            \n",
    "            # 안경 이미지의 알파 채널과 RGB 채널 분리\n",
    "            mask_alpha = mask_img[:, :, 3] / 255.0\n",
    "            mask_color = mask_img[:, :, :3]\n",
    "\n",
    "            # 안경을 적용할 위치 계산 (여기서는 전체 이미지 크기를 기준으로 간단히 설정)\n",
    "            x, y, w, h = 100, 100, 200, 100  # 예시 위치 및 크기\n",
    "            mask_resized = cv2.resize(mask_color, (w, h))\n",
    "            alpha_resized = cv2.resize(mask_alpha, (w, h), interpolation=cv2.INTER_AREA)\n",
    "\n",
    "            # 알파 블렌딩을 통한 안경 이미지 합성\n",
    "            for c in range(0, 2):\n",
    "                frame[y:y+h, x:x+w, c] = alpha_resized * mask_resized[:, :, c] + (1-alpha_resized) * frame[y:y+h, x:x+w, c]\n",
    "\n",
    "    # 결과 표시\n",
    "    cv2.imshow('Glasses Overlay', frame)\n",
    "\n",
    "    # 'q'를 누르면 루프 탈출\n",
    "    if cv2.waitKey(5) & 0xFF == ord('q'):\n",
    "        break\n",
    "\n",
    "cap.release()\n",
    "cv2.destroyAllWindows()\n"
   ]
  }
 ],
 "metadata": {
  "kernelspec": {
   "display_name": "sesac20240329_2",
   "language": "python",
   "name": "python3"
  },
  "language_info": {
   "codemirror_mode": {
    "name": "ipython",
    "version": 3
   },
   "file_extension": ".py",
   "mimetype": "text/x-python",
   "name": "python",
   "nbconvert_exporter": "python",
   "pygments_lexer": "ipython3",
   "version": "3.10.14"
  }
 },
 "nbformat": 4,
 "nbformat_minor": 2
}
