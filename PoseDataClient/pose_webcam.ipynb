{
 "cells": [
  {
   "cell_type": "markdown",
   "metadata": {},
   "source": [
    "##### 포즈 landmarks 좌표 소켓 서버 전송"
   ]
  },
  {
   "cell_type": "code",
   "execution_count": 3,
   "metadata": {},
   "outputs": [
    {
     "name": "stdout",
     "output_type": "stream",
     "text": [
      "서버에 연결되었습니다. 127.0.0.1:6521\n"
     ]
    }
   ],
   "source": [
    "import mediapipe as mp\n",
    "import cv2\n",
    "import socket\n",
    "\n",
    "# TCP 서버 설정\n",
    "def send_pose_landmarks(host='127.0.0.1', port=6521):\n",
    "    # 소켓 객체 생성\n",
    "    with socket.socket(socket.AF_INET, socket.SOCK_STREAM) as client_socket:\n",
    "        # 서버에 연결\n",
    "        client_socket.connect((host, port))\n",
    "        print(f\"서버에 연결되었습니다. {host}:{port}\")\n",
    "\n",
    "        # MediaPipe Pose 설정\n",
    "        pose = mp.solutions.pose.Pose(\n",
    "            static_image_mode=False,\n",
    "            model_complexity=1,\n",
    "            smooth_landmarks=True,\n",
    "            enable_segmentation=False,  # 세그멘테이션 기능 비활성화\n",
    "            min_detection_confidence=0.5,\n",
    "            min_tracking_confidence=0.5)\n",
    "\n",
    "        # 그리기 함수 초기화\n",
    "        mp_drawing = mp.solutions.drawing_utils\n",
    "\n",
    "        # 웹캠 캡처\n",
    "        cap = cv2.VideoCapture(0)\n",
    "\n",
    "        while True:\n",
    "            # 이미지 읽기\n",
    "            ret, image = cap.read()\n",
    "            if not ret:\n",
    "                break\n",
    "\n",
    "            # 이미지 변환\n",
    "            image = cv2.cvtColor(image, cv2.COLOR_BGR2RGB)\n",
    "\n",
    "            # 포즈 추정\n",
    "            results = pose.process(image)\n",
    "\n",
    "            # 추정된 포즈 정보 확인\n",
    "            if results.pose_landmarks:\n",
    "                # 포즈 랜드마크를 리스트로 변환하여 문자열로 만듦\n",
    "                pose_landmarks_str = ';'.join(\n",
    "                    [f\"{lm.x},{lm.y},{lm.z}\" for lm in results.pose_landmarks.landmark])\n",
    "\n",
    "                # 포즈 랜드마크 문자열 출력\n",
    "                print(pose_landmarks_str)\n",
    "\n",
    "                # 포즈 랜드마크 문자열을 서버로 전송\n",
    "                client_socket.sendall(pose_landmarks_str.encode())\n",
    "\n",
    "            # 이미지 출력\n",
    "            image = cv2.cvtColor(image, cv2.COLOR_RGB2BGR)\n",
    "            mp_drawing.draw_landmarks(\n",
    "                image, results.pose_landmarks, mp.solutions.pose.POSE_CONNECTIONS)\n",
    "            cv2.imshow('MediaPipe Pose', image)\n",
    "\n",
    "            # 키 입력 처리\n",
    "            if cv2.waitKey(5) & 0xFF == ord('q'):\n",
    "                break\n",
    "\n",
    "        # 자원 해제\n",
    "        cap.release()\n",
    "        cv2.destroyAllWindows()\n",
    "\n",
    "if __name__ == \"__main__\":\n",
    "    send_pose_landmarks()"
   ]
  }
 ],
 "metadata": {
  "kernelspec": {
   "display_name": "sesac_gpu_env310",
   "language": "python",
   "name": "python3"
  },
  "language_info": {
   "codemirror_mode": {
    "name": "ipython",
    "version": 3
   },
   "file_extension": ".py",
   "mimetype": "text/x-python",
   "name": "python",
   "nbconvert_exporter": "python",
   "pygments_lexer": "ipython3",
   "version": "3.10.14"
  }
 },
 "nbformat": 4,
 "nbformat_minor": 2
}
