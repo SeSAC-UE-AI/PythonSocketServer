{
 "cells": [
  {
   "cell_type": "code",
   "execution_count": 1,
   "metadata": {},
   "outputs": [
    {
     "name": "stdout",
     "output_type": "stream",
     "text": [
      "서버에 연결되었습니다. 127.0.0.1:6521\n"
     ]
    }
   ],
   "source": [
    "import cv2\n",
    "import mediapipe as mp\n",
    "import socket\n",
    "\n",
    "# MediaPipe Hands 모듈 초기화\n",
    "mp_hands = mp.solutions.hands\n",
    "hands = mp_hands.Hands(\n",
    "    max_num_hands=2,\n",
    "    min_detection_confidence=0.5,\n",
    "    min_tracking_confidence=0.5)\n",
    "mp_drawing = mp.solutions.drawing_utils\n",
    "\n",
    "# 웹캠 설정\n",
    "cap = cv2.VideoCapture(0)\n",
    "\n",
    "# TCP 서버 설정\n",
    "def send_hand_landmarks(host='127.0.0.1', port=6521):\n",
    "    # 소켓 객체 생성\n",
    "    with socket.socket(socket.AF_INET, socket.SOCK_STREAM) as client_socket:\n",
    "        # 서버에 연결\n",
    "        client_socket.connect((host, port))\n",
    "        print(f\"서버에 연결되었습니다. {host}:{port}\")\n",
    "\n",
    "        while True:\n",
    "            # 웹캠에서 프레임 읽기\n",
    "            success, image = cap.read()\n",
    "            if not success:\n",
    "                continue\n",
    "\n",
    "            # 이미지를 RGB로 변환\n",
    "            image = cv2.cvtColor(image, cv2.COLOR_BGR2RGB)\n",
    "\n",
    "            # 성능을 위해 이미지 쓰기 불가능으로 설정\n",
    "            image.flags.writeable = False\n",
    "\n",
    "            # MediaPipe를 통해 손 검출\n",
    "            results = hands.process(image)\n",
    "\n",
    "            # 이미지를 RGB에서 BGR로 변환하여 그리기 작업 준비\n",
    "            image.flags.writeable = True\n",
    "            image = cv2.cvtColor(image, cv2.COLOR_RGB2BGR)\n",
    "\n",
    "            # 검출된 손의 랜드마크를 이미지에 그림\n",
    "            if results.multi_hand_landmarks:\n",
    "                for hand_landmarks in results.multi_hand_landmarks:\n",
    "                    mp_drawing.draw_landmarks(\n",
    "                        image, hand_landmarks, mp_hands.HAND_CONNECTIONS,\n",
    "                        mp_drawing.DrawingSpec(color=(121, 22, 76), thickness=2, circle_radius=4),\n",
    "                        mp_drawing.DrawingSpec(color=(250, 44, 250), thickness=2))\n",
    "                    \n",
    "                    # 엄지 끝점 랜드마크 가져오기\n",
    "                    thumb_tip = hand_landmarks.landmark[mp_hands.HandLandmark.THUMB_TIP]\n",
    "                    # 검지 끝점 랜드마크 가져오기\n",
    "                    index_tip = hand_landmarks.landmark[mp_hands.HandLandmark.INDEX_FINGER_TIP]\n",
    "                    # 손목 랜드마크 가져오기\n",
    "                    wrist_landmark = hand_landmarks.landmark[mp_hands.HandLandmark.WRIST]\n",
    "                    \n",
    "                    # 랜드마크들의 좌표 값을 소수점 셋째 자리까지 반올림하여 문자열로 변환하여 서버로 전송\n",
    "                    landmarks_str = f\"{round(thumb_tip.x, 3)},{round(thumb_tip.y, 3)},{round(thumb_tip.z, 3)};\" \\\n",
    "                                    f\"{round(index_tip.x, 3)},{round(index_tip.y, 3)},{round(index_tip.z, 3)};\" \\\n",
    "                                    f\"{round(wrist_landmark.x, 3)},{round(wrist_landmark.y, 3)},{round(wrist_landmark.z, 3)}\"\n",
    "                    client_socket.sendall(landmarks_str.encode())\n",
    "\n",
    "            # 결과 이미지 표시\n",
    "            cv2.imshow('Hand Tracking', image)\n",
    "\n",
    "            # 'q'를 눌러 종료\n",
    "            if cv2.waitKey(5) & 0xFF == ord('q'):\n",
    "                break\n",
    "\n",
    "    cap.release()\n",
    "    cv2.destroyAllWindows()\n",
    "\n",
    "if __name__ == \"__main__\":\n",
    "    send_hand_landmarks()"
   ]
  }
 ],
 "metadata": {
  "kernelspec": {
   "display_name": "sesac_gpu_env310",
   "language": "python",
   "name": "python3"
  },
  "language_info": {
   "codemirror_mode": {
    "name": "ipython",
    "version": 3
   },
   "file_extension": ".py",
   "mimetype": "text/x-python",
   "name": "python",
   "nbconvert_exporter": "python",
   "pygments_lexer": "ipython3",
   "version": "3.10.14"
  }
 },
 "nbformat": 4,
 "nbformat_minor": 2
}
